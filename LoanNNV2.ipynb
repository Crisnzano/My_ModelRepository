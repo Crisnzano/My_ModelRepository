{
 "cells": [
  {
   "cell_type": "code",
   "execution_count": 1,
   "id": "c15acb15",
   "metadata": {},
   "outputs": [],
   "source": [
    "#import Library\n",
    "import pandas as pd\n",
    "import numpy as np\n",
    "from sklearn.model_selection import train_test_split\n",
    "from sklearn.metrics import accuracy_score, confusion_matrix\n",
    "from imblearn.over_sampling import SMOTE\n",
    "from sklearn.preprocessing import MinMaxScaler\n",
    "import warnings\n",
    "from collections import Counter\n",
    "warnings.filterwarnings('ignore')\n",
    "import seaborn as sns\n",
    "import matplotlib.pyplot as plt\n",
    "from keras import Sequential\n",
    "from keras.layers import Dense"
   ]
  },
  {
   "cell_type": "code",
   "execution_count": 2,
   "id": "bf29727c",
   "metadata": {},
   "outputs": [
    {
     "data": {
      "text/plain": [
       "Counter({'Y': 332, 'N': 148})"
      ]
     },
     "execution_count": 2,
     "metadata": {},
     "output_type": "execute_result"
    }
   ],
   "source": [
    "df=pd.read_csv('C:/Users/Cris/Downloads/MLAPLI-master/bankloan.csv')\n",
    "df=df.dropna()\n",
    "df.isna().any()\n",
    "df=df.drop('Loan_ID', axis=1)\n",
    "df['LoanAmount'] = (df['LoanAmount'] * 1000).astype(int)\n",
    "Counter(df['Loan_Status'])"
   ]
  },
  {
   "cell_type": "code",
   "execution_count": 3,
   "id": "6cdbf4cc",
   "metadata": {},
   "outputs": [],
   "source": [
    "pre_y=df['Loan_Status']\n",
    "pre_X=df.drop('Loan_Status', axis=1)\n",
    "dm_X=pd.get_dummies(pre_X)\n",
    "dm_y=pre_y.map(dict(Y=1, N=0))"
   ]
  },
  {
   "cell_type": "code",
   "execution_count": 4,
   "id": "4cb1e8dd",
   "metadata": {},
   "outputs": [],
   "source": [
    "smote = SMOTE(sampling_strategy='minority')\n",
    "X1, y = smote.fit_resample(dm_X, dm_y)\n",
    "sc = MinMaxScaler()\n",
    "X = sc.fit_transform(X1)\n"
   ]
  },
  {
   "cell_type": "code",
   "execution_count": 5,
   "id": "cef13055",
   "metadata": {},
   "outputs": [],
   "source": [
    "X_train, X_test, y_train, y_test = train_test_split(X, y, test_size=0.2, random_state=42, shuffle=True)"
   ]
  },
  {
   "cell_type": "code",
   "execution_count": 6,
   "id": "815a1861",
   "metadata": {},
   "outputs": [
    {
     "name": "stdout",
     "output_type": "stream",
     "text": [
      "17/17 [==============================] - 0s 4ms/step - loss: 0.2765 - accuracy: 0.8889\n"
     ]
    },
    {
     "data": {
      "text/plain": [
       "[0.27653151750564575, 0.8888888955116272]"
      ]
     },
     "execution_count": 6,
     "metadata": {},
     "output_type": "execute_result"
    }
   ],
   "source": [
    "classifier = Sequential()\n",
    "classifier.add(Dense(200, activation='relu', kernel_initializer='random_normal', input_dim=X_test.shape[1]))\n",
    "classifier.add(Dense(400, activation='relu', kernel_initializer='random_normal'))\n",
    "classifier.add(Dense(4, activation='relu', kernel_initializer='random_normal'))\n",
    "classifier.add(Dense(1, activation='sigmoid', kernel_initializer='random_normal'))\n",
    "classifier.compile(optimizer ='adam', loss='binary_crossentropy', metrics =['accuracy'])\n",
    "classifier.fit(X_train,y_train, batch_size=20, epochs=50, verbose=0)\n",
    "eval_model=classifier.evaluate(X_train, y_train)\n",
    "eval_model"
   ]
  },
  {
   "cell_type": "code",
   "execution_count": 7,
   "id": "c5ad2ee8",
   "metadata": {},
   "outputs": [
    {
     "name": "stdout",
     "output_type": "stream",
     "text": [
      "5/5 [==============================] - 0s 4ms/step\n"
     ]
    }
   ],
   "source": [
    "y_pred=classifier.predict(X_test)\n",
    "y_pred =(y_pred>0.61)"
   ]
  },
  {
   "cell_type": "code",
   "execution_count": 8,
   "id": "1bb9d92e",
   "metadata": {},
   "outputs": [
    {
     "data": {
      "image/png": "[encoded data removed]",
      "text/plain": [
       "<Figure size 640x480 with 2 Axes>"
      ]
     },
     "metadata": {},
     "output_type": "display_data"
    }
   ],
   "source": [
    "from sklearn.metrics import confusion_matrix\n",
    "cm = confusion_matrix(y_test, y_pred)\n",
    "ax = plt.subplot()\n",
    "sns.heatmap(cm, annot= True, ax = ax);\n",
    "\n",
    "ax.set_xlabel('Predicted');ax.set_ylabel('Actual');\n",
    "ax.set_title('Confusion Matrix');\n",
    "ax.xaxis.set_ticklabels(['No', 'Yes']); ax.yaxis.set_ticklabels(['No', 'Yes']);\n"
   ]
  },
  {
   "cell_type": "code",
   "execution_count": 9,
   "id": "cd7ebdd8",
   "metadata": {},
   "outputs": [],
   "source": [
    "import pickle\n",
    "import joblib\n",
    "filename = 'loan_model2.h5'\n",
    "classifier.save(filename)"
   ]
  },
  {
   "cell_type": "code",
   "execution_count": 20,
   "id": "d28f5e0f",
   "metadata": {},
   "outputs": [
    {
     "name": "stdout",
     "output_type": "stream",
     "text": [
      "1/1 [==============================] - 1s 558ms/step\n"
     ]
    }
   ],
   "source": [
    "from tensorflow import keras  # Import 'keras' from 'tensorflow'\n",
    "from keras import Sequential\n",
    "from keras.layers import Dense\n",
    "sc = MinMaxScaler()\n",
    "mdl = keras.models.load_model('C:/Users/Cris/loan_model2.h5')\n",
    "X= pd.read_excel('C:/Users/Cris/test.xlsx')\n",
    "X_test = sc.fit_transform(X)\n",
    "y_pred = mdl.predict(X_test)\n",
    "y_pred = (y_pred>0.61)"
   ]
  },
  {
   "cell_type": "code",
   "execution_count": 21,
   "id": "baf8b332",
   "metadata": {},
   "outputs": [
    {
     "data": {
      "text/html": [
       "<div>\n",
       "<style scoped>\n",
       "    .dataframe tbody tr th:only-of-type {\n",
       "        vertical-align: middle;\n",
       "    }\n",
       "\n",
       "    .dataframe tbody tr th {\n",
       "        vertical-align: top;\n",
       "    }\n",
       "\n",
       "    .dataframe thead th {\n",
       "        text-align: right;\n",
       "    }\n",
       "</style>\n",
       "<table border=\"1\" class=\"dataframe\">\n",
       "  <thead>\n",
       "    <tr style=\"text-align: right;\">\n",
       "      <th></th>\n",
       "      <th>Status</th>\n",
       "    </tr>\n",
       "  </thead>\n",
       "  <tbody>\n",
       "    <tr>\n",
       "      <th>0</th>\n",
       "      <td>Rejected</td>\n",
       "    </tr>\n",
       "    <tr>\n",
       "      <th>1</th>\n",
       "      <td>Rejected</td>\n",
       "    </tr>\n",
       "    <tr>\n",
       "      <th>2</th>\n",
       "      <td>Rejected</td>\n",
       "    </tr>\n",
       "    <tr>\n",
       "      <th>3</th>\n",
       "      <td>Rejected</td>\n",
       "    </tr>\n",
       "    <tr>\n",
       "      <th>4</th>\n",
       "      <td>Approved</td>\n",
       "    </tr>\n",
       "    <tr>\n",
       "      <th>5</th>\n",
       "      <td>Rejected</td>\n",
       "    </tr>\n",
       "    <tr>\n",
       "      <th>6</th>\n",
       "      <td>Approved</td>\n",
       "    </tr>\n",
       "    <tr>\n",
       "      <th>7</th>\n",
       "      <td>Rejected</td>\n",
       "    </tr>\n",
       "    <tr>\n",
       "      <th>8</th>\n",
       "      <td>Approved</td>\n",
       "    </tr>\n",
       "    <tr>\n",
       "      <th>9</th>\n",
       "      <td>Rejected</td>\n",
       "    </tr>\n",
       "    <tr>\n",
       "      <th>10</th>\n",
       "      <td>Approved</td>\n",
       "    </tr>\n",
       "    <tr>\n",
       "      <th>11</th>\n",
       "      <td>Rejected</td>\n",
       "    </tr>\n",
       "    <tr>\n",
       "      <th>12</th>\n",
       "      <td>Rejected</td>\n",
       "    </tr>\n",
       "  </tbody>\n",
       "</table>\n",
       "</div>"
      ],
      "text/plain": [
       "      Status\n",
       "0   Rejected\n",
       "1   Rejected\n",
       "2   Rejected\n",
       "3   Rejected\n",
       "4   Approved\n",
       "5   Rejected\n",
       "6   Approved\n",
       "7   Rejected\n",
       "8   Approved\n",
       "9   Rejected\n",
       "10  Approved\n",
       "11  Rejected\n",
       "12  Rejected"
      ]
     },
     "execution_count": 21,
     "metadata": {},
     "output_type": "execute_result"
    }
   ],
   "source": [
    "val=pd.DataFrame(y_pred, columns=['Status'])\n",
    "val=val.replace({True: 'Approved', False: 'Rejected'})\n",
    "val"
   ]
  },
  {
   "cell_type": "code",
   "execution_count": 43,
   "id": "60ad8700",
   "metadata": {},
   "outputs": [],
   "source": [
    "import pandas as pd\n",
    "import numpy as np\n",
    "from sklearn.model_selection import train_test_split\n",
    "from sklearn.preprocessing import MinMaxScaler\n",
    "from imblearn.over_sampling import SMOTE\n",
    "from keras import Sequential\n",
    "from keras.layers import Dense\n",
    "import joblib\n",
    "\n",
    "# Load the trained model\n",
    "mdl = keras.models.load_model('C:/Users/Cris/loan_model2.h5')\n",
    "\n",
    "# Create a list to store input data configurations that are more likely to be approved\n",
    "likely_approval_configs = []\n",
    "\n",
    "# Loop through different combinations of input features\n",
    "for dependents in [0, 1, 2, 3]:\n",
    "    for loan_amount in [10000, 50000, 100000, 150000]:\n",
    "        for credit_history in [0, 1]:\n",
    "            data = {\n",
    "                \"Dependents\": dependents,\n",
    "                \"ApplicantIncome\": 458300,\n",
    "                \"CoapplicantIncome\": 15080,\n",
    "                \"LoanAmount\": loan_amount,\n",
    "                \"Loan_Amount_Term\": 360,\n",
    "                \"Credit_History\": credit_history,\n",
    "                \"Gender_Female\": 0,\n",
    "                \"Gender_Male\": 1,\n",
    "                \"Married_No\": 0,\n",
    "                \"Married_Yes\": 1,\n",
    "                \"Education_Graduate\": 1,\n",
    "                \"Education_Not_Graduate\": 0,\n",
    "                \"Self_Employed_No\": 0,\n",
    "                \"Self_Employed_Yes\": 1,\n",
    "                \"Property_Area_Rural\": 1,\n",
    "                \"Property_Area_Semiurban\": 0,\n",
    "                \"Property_Area_Urban\": 0\n",
    "            }"
   ]
  },
  {
   "cell_type": "code",
   "execution_count": 44,
   "id": "2493ee16",
   "metadata": {},
   "outputs": [],
   "source": [
    " unit = np.array(list(data.values())).reshape(1, -1)"
   ]
  },
  {
   "cell_type": "code",
   "execution_count": 45,
   "id": "a282867f",
   "metadata": {},
   "outputs": [
    {
     "name": "stdout",
     "output_type": "stream",
     "text": [
      "1/1 [==============================] - 1s 541ms/step\n"
     ]
    }
   ],
   "source": [
    "# Scale the input data\n",
    "\n",
    "scaler = MinMaxScaler()\n",
    "scaled_data = scaler.fit_transform(unit)\n",
    "# Make loan prediction using the Keras model\n",
    "prediction = mdl.predict(scaled_data)\n",
    "# If the probability of approval is higher than a threshold, add it to the list\n",
    "if prediction[0][0] > 0.61:  # Adjust the threshold as needed\n",
    "                likely_approval_configs.append(data)\n",
    "        "
   ]
  },
  {
   "cell_type": "code",
   "execution_count": 46,
   "id": "48b1885d",
   "metadata": {},
   "outputs": [],
   "source": [
    "def predict_loan_approval(input_data, threshold=0.61):\n",
    "    sc = MinMaxScaler()\n",
    "    scaled_data = sc.fit_transform(np.array(list(input_data.values())).reshape(1, -1))\n",
    "\n",
    "    # Make loan prediction using the Keras model\n",
    "    prediction = mdl.predict(scaled_data)\n",
    "\n",
    "    if prediction[0][0] > threshold:\n",
    "        return 'Loan Application approved'\n",
    "    else:\n",
    "        # Compare input data with likely_approval_configs\n",
    "        for config in likely_approval_configs:\n",
    "            if input_data == config:\n",
    "                return 'Loan would likely be approved'\n",
    "        return 'Loan Application not approved'\n"
   ]
  },
  {
   "cell_type": "code",
   "execution_count": 47,
   "id": "fe811958",
   "metadata": {},
   "outputs": [
    {
     "name": "stdout",
     "output_type": "stream",
     "text": [
      "1/1 [==============================] - 0s 66ms/step\n",
      "Loan Application approved\n"
     ]
    }
   ],
   "source": [
    "# Example input data (you can replace this with your data)\n",
    "input_data = {\n",
    "    \"Dependents\": 0,\n",
    "    \"ApplicantIncome\": 8000,\n",
    "    \"CoapplicantIncome\": 0,\n",
    "    \"LoanAmount\": 150000,\n",
    "    \"Loan_Amount_Term\": 60,\n",
    "    \"Credit_History\": 0,\n",
    "    \"Gender_Female\": 0,\n",
    "    \"Gender_Male\": 1,\n",
    "    \"Married_No\": 0,\n",
    "    \"Married_Yes\": 1,\n",
    "    \"Education_Graduate\": 1,\n",
    "    \"Education_Not_Graduate\": 0,\n",
    "    \"Self_Employed_No\": 0,\n",
    "    \"Self_Employed_Yes\": 1,\n",
    "    \"Property_Area_Rural\": 0,\n",
    "    \"Property_Area_Semiurban\": 1,\n",
    "    \"Property_Area_Urban\": 0\n",
    "}\n",
    "\n",
    "result = predict_loan_approval(input_data)\n",
    "print(result)\n"
   ]
  },
  {
   "cell_type": "code",
   "execution_count": null,
   "id": "ccadedad",
   "metadata": {},
   "outputs": [],
   "source": []
  }
 ],
 "metadata": {
  "kernelspec": {
   "display_name": "Python 3 (ipykernel)",
   "language": "python",
   "name": "python3"
  },
  "language_info": {
   "codemirror_mode": {
    "name": "ipython",
    "version": 3
   },
   "file_extension": ".py",
   "mimetype": "text/x-python",
   "name": "python",
   "nbconvert_exporter": "python",
   "pygments_lexer": "ipython3",
   "version": "3.11.5"
  }
 },
 "nbformat": 4,
 "nbformat_minor": 5
}
